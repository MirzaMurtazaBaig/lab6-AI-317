{
 "cells": [
  {
   "cell_type": "code",
   "execution_count": 4,
   "id": "71b1a287-4a19-4956-8990-0271058a4b4b",
   "metadata": {},
   "outputs": [
    {
     "name": "stdout",
     "output_type": "stream",
     "text": [
      "Dataset preview:\n",
      "   Unnamed: 0  ID  INCOME($)  AGE\n",
      "0           0   1      50000   20\n",
      "1           1   2      60000   45\n",
      "2           2   3      45000   32\n",
      "3           3   4      30000   38\n",
      "4           4   5      70000   22\n",
      "\n",
      "Centroids of the clusters:\n",
      "Cluster 0: [5.33333333e+00 3.16666667e+04 3.16666667e+01]\n",
      "Cluster 1: [8.e+00 9.e+04 3.e+01]\n",
      "Cluster 2: [3.750e+00 5.875e+04 3.050e+01]\n",
      "\n",
      "Dataset with cluster labels saved to: income_with_clusters.csv\n"
     ]
    },
    {
     "name": "stderr",
     "output_type": "stream",
     "text": [
      "F:\\anca\\Lib\\site-packages\\sklearn\\cluster\\_kmeans.py:1429: UserWarning: KMeans is known to have a memory leak on Windows with MKL, when there are less chunks than available threads. You can avoid it by setting the environment variable OMP_NUM_THREADS=1.\n",
      "  warnings.warn(\n"
     ]
    }
   ],
   "source": [
    "# Import necessary libraries\n",
    "import pandas as pd\n",
    "import numpy as np\n",
    "from sklearn.cluster import KMeans\n",
    "import matplotlib.pyplot as plt\n",
    "\n",
    "# Load the dataset\n",
    "file_path = 'income.csv'\n",
    "data = pd.read_csv(file_path)\n",
    "\n",
    "# Display the first few rows of the dataset\n",
    "print(\"Dataset preview:\")\n",
    "print(data.head())\n",
    "\n",
    "# Assuming the dataset has two features to cluster\n",
    "# Extract the relevant features (adjust column names as necessary)\n",
    "features = data.iloc[:, 1:].values  # Select numeric columns for clustering\n",
    "\n",
    "# Apply K-Means Clustering with K=3\n",
    "kmeans = KMeans(n_clusters=3, random_state=42)\n",
    "kmeans.fit(features)\n",
    "\n",
    "# Get the cluster labels and centroids\n",
    "labels = kmeans.labels_\n",
    "centroids = kmeans.cluster_centers_\n",
    "\n",
    "# Append the cluster labels to the original dataset\n",
    "data['Cluster'] = labels\n",
    "\n",
    "# Display the new centroids\n",
    "print(\"\\nCentroids of the clusters:\")\n",
    "for i, centroid in enumerate(centroids):\n",
    "    print(f\"Cluster {i}: {centroid}\")\n",
    "\n",
    "# Visualize the clusters (if features are 2D for simplicity)\n",
    "if features.shape[1] == 2:\n",
    "    plt.scatter(features[:, 0], features[:, 1], c=labels, cmap='viridis', label='Data Points')\n",
    "    plt.scatter(centroids[:, 0], centroids[:, 1], color='red', marker='X', s=100, label='Centroids')\n",
    "    plt.title('K-Means Clustering')\n",
    "    plt.xlabel('Feature 1')\n",
    "    plt.ylabel('Feature 2')\n",
    "    plt.legend()\n",
    "    plt.show()\n",
    "\n",
    "# Save the resulting dataset with cluster labels\n",
    "output_path = 'income_with_clusters.csv'\n",
    "data.to_csv(output_path, index=False)\n",
    "print(f\"\\nDataset with cluster labels saved to: {output_path}\")\n"
   ]
  },
  {
   "cell_type": "code",
   "execution_count": null,
   "id": "18599bdc-46b1-4703-a30b-30dc33d48ca9",
   "metadata": {},
   "outputs": [],
   "source": []
  }
 ],
 "metadata": {
  "kernelspec": {
   "display_name": "Python 3 (ipykernel)",
   "language": "python",
   "name": "python3"
  },
  "language_info": {
   "codemirror_mode": {
    "name": "ipython",
    "version": 3
   },
   "file_extension": ".py",
   "mimetype": "text/x-python",
   "name": "python",
   "nbconvert_exporter": "python",
   "pygments_lexer": "ipython3",
   "version": "3.12.7"
  }
 },
 "nbformat": 4,
 "nbformat_minor": 5
}
