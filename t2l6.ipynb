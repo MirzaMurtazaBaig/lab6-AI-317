{
 "cells": [
  {
   "cell_type": "code",
   "execution_count": 37,
   "id": "f465214a-627c-4d8e-b2fb-8149d6fa7471",
   "metadata": {},
   "outputs": [
    {
     "name": "stdout",
     "output_type": "stream",
     "text": [
      "  Object  X  Y  Z  Cluster\n",
      "0   OB-1  1  4  1        0\n",
      "1   OB-2  1  2  2        1\n",
      "2   OB-3  1  4  2        0\n",
      "3   OB-4  2  2  1        1\n",
      "4   OB-5  1  1  4        1\n",
      "5   OB-6  1  2  4        1\n",
      "6   OB-7  1  1  2        1\n",
      "7   OB-8  2  1  1        1\n",
      "\n",
      "Cluster Centers:\n",
      "[[1.         4.         1.5       ]\n",
      " [1.33333333 1.5        2.33333333]]\n"
     ]
    },
    {
     "name": "stderr",
     "output_type": "stream",
     "text": [
      "C:\\Users\\AA\\anaconda3\\Lib\\site-packages\\sklearn\\cluster\\_kmeans.py:1429: UserWarning: KMeans is known to have a memory leak on Windows with MKL, when there are less chunks than available threads. You can avoid it by setting the environment variable OMP_NUM_THREADS=1.\n",
      "  warnings.warn(\n"
     ]
    }
   ],
   "source": [
    "import numpy as np\n",
    "from sklearn.cluster import KMeans\n",
    "import pandas as pd\n",
    "\n",
    "# Dataset\n",
    "data = {\n",
    "    'Object': ['OB-1', 'OB-2', 'OB-3', 'OB-4', 'OB-5', 'OB-6', 'OB-7', 'OB-8'],\n",
    "    'X': [1, 1, 1, 2, 1, 1, 1, 2],\n",
    "    'Y': [4, 2, 4, 2, 1, 2, 1, 1],\n",
    "    'Z': [1, 2, 2, 1, 4, 4, 2, 1]\n",
    "}\n",
    "\n",
    "# Convert the data into a DataFrame\n",
    "df = pd.DataFrame(data)\n",
    "\n",
    "# Prepare the data for clustering (use X, Y, Z coordinates)\n",
    "X = df[['X', 'Y', 'Z']].values\n",
    "\n",
    "# Initialize KMeans with 2 clusters\n",
    "kmeans = KMeans(n_clusters=2, random_state=42)\n",
    "\n",
    "# Fit the model\n",
    "kmeans.fit(X)\n",
    "\n",
    "# Add the cluster labels to the DataFrame\n",
    "df['Cluster'] = kmeans.labels_\n",
    "\n",
    "# Print the resulting DataFrame with cluster labels\n",
    "print(df)\n",
    "\n",
    "# Print the centroids of the clusters\n",
    "print(\"\\nCluster Centers:\")\n",
    "print(kmeans.cluster_centers_)\n"
   ]
  },
  {
   "cell_type": "code",
   "execution_count": null,
   "id": "187744b3-b91a-40b5-8158-0a183f99ba6d",
   "metadata": {},
   "outputs": [],
   "source": []
  }
 ],
 "metadata": {
  "kernelspec": {
   "display_name": "Python 3 (ipykernel)",
   "language": "python",
   "name": "python3"
  },
  "language_info": {
   "codemirror_mode": {
    "name": "ipython",
    "version": 3
   },
   "file_extension": ".py",
   "mimetype": "text/x-python",
   "name": "python",
   "nbconvert_exporter": "python",
   "pygments_lexer": "ipython3",
   "version": "3.12.7"
  }
 },
 "nbformat": 4,
 "nbformat_minor": 5
}
